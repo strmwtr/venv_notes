{
 "cells": [
  {
   "cell_type": "markdown",
   "metadata": {},
   "source": [
    "# How to use virtual environments via venv"
   ]
  },
  {
   "cell_type": "markdown",
   "metadata": {},
   "source": [
    "## Instruction taken from Corey Shaefer\n",
    "Video Link: https://www.youtube.com/watch?v=Kg1Yvry_Ydk\n",
    "\n",
    "## Jupyter Notebook instruction: \n",
    "https://janakiev.com/til/jupyter-virtual-envs/"
   ]
  },
  {
   "cell_type": "markdown",
   "metadata": {},
   "source": [
    "Virtual environments are important for managing project package dependencies. If you have 2 projects that reference different versions of the same package, your code may not run correctly if you are pointing to only 1 global version of the package. Virtual environments allow for multiple instances of a module accross multiple versions to be installed on a machine.\n",
    "\n",
    "venv comes with the python standard library for all versions 3.3 and above."
   ]
  },
  {
   "cell_type": "markdown",
   "metadata": {},
   "source": [
    "This will create a new virtual environment using venv. The syntax is \n",
    "python -m venv {name of virtual environment}\n",
    "\n",
    "python is your global command for python. The global may be python3 or python2 depending on how your machine is setup. The python version in the virtual environment will be the python version used to create the virtual environment.\n",
    "\n",
    "-m is telling python to use the module specified\n",
    "\n",
    "venv is the module specified for python to use. When venv is specified python will search sys.path for this module and execute it as the main module. \n",
    "\n",
    "name of virtual environment is what the name of the virtual environment will be. Conventionally it is venv. The sample below shows project_env to differentiate it from the venv module."
   ]
  },
  {
   "cell_type": "code",
   "execution_count": 1,
   "metadata": {},
   "outputs": [],
   "source": [
    "#python -m venv project_env"
   ]
  },
  {
   "cell_type": "markdown",
   "metadata": {},
   "source": [
    "This line will add the virtual environment to the list of kernels that jupyter notebooks can use."
   ]
  },
  {
   "cell_type": "code",
   "execution_count": 2,
   "metadata": {},
   "outputs": [],
   "source": [
    "#python -m ipykernel install --user --name=project_env"
   ]
  },
  {
   "cell_type": "markdown",
   "metadata": {},
   "source": [
    "Activating the virtual environement. If you are using a jupyter notebook, you need to do this before using the jupyter notebook command or else it will still reference the original Python 3 kernel, even if you have changed the kernel to the virtual environment in the notebook."
   ]
  },
  {
   "cell_type": "markdown",
   "metadata": {},
   "source": [
    "!source project_env/bin/activate"
   ]
  },
  {
   "cell_type": "markdown",
   "metadata": {},
   "source": [
    "If you are using a jupyter notebook, switch the kernel to the virtual environment instead of the global Python 3. You can do this by clicking Kernel > Change Kernel > {virtual environment}"
   ]
  },
  {
   "cell_type": "markdown",
   "metadata": {},
   "source": [
    "Install the packages needed for the projects"
   ]
  },
  {
   "cell_type": "code",
   "execution_count": 3,
   "metadata": {},
   "outputs": [],
   "source": [
    "#pip install pandas"
   ]
  },
  {
   "cell_type": "markdown",
   "metadata": {},
   "source": [
    "Create a requirements.txt file for your projects"
   ]
  },
  {
   "cell_type": "code",
   "execution_count": 4,
   "metadata": {},
   "outputs": [],
   "source": [
    "#pip freeze > requirements.txt"
   ]
  },
  {
   "cell_type": "markdown",
   "metadata": {},
   "source": [
    "To use a requirements.txt file, use the -r in the pip command"
   ]
  },
  {
   "cell_type": "code",
   "execution_count": 5,
   "metadata": {},
   "outputs": [],
   "source": [
    "#pip install -r requirements.txt"
   ]
  },
  {
   "cell_type": "markdown",
   "metadata": {},
   "source": [
    "To deactivate the virtual env type deactivate into the command line"
   ]
  },
  {
   "cell_type": "code",
   "execution_count": 6,
   "metadata": {},
   "outputs": [],
   "source": [
    "#deactivate"
   ]
  },
  {
   "cell_type": "markdown",
   "metadata": {},
   "source": [
    "To remove a virtual environment, just delete the directory for that environment"
   ]
  },
  {
   "cell_type": "markdown",
   "metadata": {},
   "source": [
    "When setting up a project, a sample file directory would look like this\n",
    "    - my_project\n",
    "        - venv\n",
    "        - script.py\n",
    "        - requirements.txt\n",
    "        - .gitignore (with venv in .gitignore) \n",
    "        - .git\n",
    "        \n",
    "Don't put anything import in the venv directory. It is made to be thrown away and rebuilt."
   ]
  }
 ],
 "metadata": {
  "kernelspec": {
   "display_name": "project_env",
   "language": "python",
   "name": "project_env"
  },
  "language_info": {
   "codemirror_mode": {
    "name": "ipython",
    "version": 3
   },
   "file_extension": ".py",
   "mimetype": "text/x-python",
   "name": "python",
   "nbconvert_exporter": "python",
   "pygments_lexer": "ipython3",
   "version": "3.7.3"
  }
 },
 "nbformat": 4,
 "nbformat_minor": 2
}
